{
 "cells": [
  {
   "cell_type": "markdown",
   "metadata": {},
   "source": [
    "# Sentiment Analysis on movie comments\n",
    "The data we're using are movie comments from [IMDB](http://www.imdb.com/). It has been preprocessed and stored in `reviews.txt` and `labels.txt`. For the same line in these two files, `reviews.txt` contains the review and `labels.txt` contains corresponding label which is either `positive` or `negative`. The goal is to train a model against this data to tell whether a comment is positive or not."
   ]
  },
  {
   "cell_type": "markdown",
   "metadata": {},
   "source": [
    "## Part1: Preparing data\n",
    "Task for this part:  \n",
    "1. Convert a review to a vector (it's much easier to work with the neural network)\n",
    "2. Reduce noise in data"
   ]
  },
  {
   "cell_type": "markdown",
   "metadata": {},
   "source": [
    "### Load data\n",
    "The data has been preprocessed that it only contains lower case characters. Labels are converted into upper case here to make it more like a constant."
   ]
  },
  {
   "cell_type": "code",
   "execution_count": 1,
   "metadata": {
    "collapsed": true,
    "deletable": true,
    "editable": true
   },
   "outputs": [],
   "source": [
    "with open('reviews.txt', 'r') as f:\n",
    "    reviews = list(map(lambda x : x[:-1], f.readlines()))\n",
    "\n",
    "with open('labels.txt', 'r') as f:\n",
    "    labels = list(map(lambda x : x[:-1].upper(), f.readlines()))"
   ]
  },
  {
   "cell_type": "markdown",
   "metadata": {},
   "source": [
    "### Count word frequency\n",
    "The count of a word in all reviews can provide some useful information:\n",
    "1. A word appears more often in positive reviews is found in a review, it's more likely to a positive review (same for negative)\n",
    "2. A word appears equally often in positive and negative reviews contribute very little to the prediction\n",
    "\n",
    "The first step is to count word frequency and then the count will be used to create a vocabulary to encode the review data"
   ]
  },
  {
   "cell_type": "code",
   "execution_count": 17,
   "metadata": {
    "collapsed": false,
    "deletable": true,
    "editable": true
   },
   "outputs": [],
   "source": [
    "from collections import Counter\n",
    "import numpy as np\n",
    "\n",
    "positive_counts = Counter()\n",
    "negative_counts = Counter()\n",
    "total_counts = Counter()\n",
    "\n",
    "for review, label in zip(reviews, labels):\n",
    "    for word in review.split(' '):\n",
    "        total_counts[word] += 1\n",
    "        if label == 'POSITIVE':\n",
    "            positive_counts[word] += 1\n",
    "        if label == 'NEGATIVE':\n",
    "            negative_counts[word] += 1"
   ]
  },
  {
   "cell_type": "markdown",
   "metadata": {},
   "source": [
    "Calculate the ratios of positive and negative uses of words, notice the +1 in the denominator – that ensures we don't divide by zero for words that are only seen in positive reviews."
   ]
  },
  {
   "cell_type": "code",
   "execution_count": 18,
   "metadata": {
    "collapsed": false,
    "deletable": true,
    "editable": true
   },
   "outputs": [],
   "source": [
    "pos_neg_ratios = Counter()\n",
    "for word in total_counts.keys():\n",
    "    pos_neg_ratios[word] = positive_counts[word] / float(negative_counts[word]+1)"
   ]
  },
  {
   "cell_type": "markdown",
   "metadata": {},
   "source": [
    "Ratio values are not easy to compare for two reasons:\n",
    "1. Neutral value is 1 instead of 0, comparing absolute values are easier when around zero\n",
    "2. Ratios of positive and negative words don't have same magnitude  \n",
    "\n",
    "To solve these two problems, convert ratios to logs in such a way: "
   ]
  },
  {
   "cell_type": "code",
   "execution_count": 19,
   "metadata": {
    "collapsed": false,
    "deletable": true,
    "editable": true
   },
   "outputs": [],
   "source": [
    "for word, ratio in pos_neg_ratios.items():\n",
    "    if ratio >= 1:\n",
    "        pos_neg_ratios[word] = np.log(ratio)\n",
    "    else:\n",
    "        pos_neg_ratios[word] = -np.log(1/(ratio+0.01))"
   ]
  },
  {
   "cell_type": "markdown",
   "metadata": {},
   "source": [
    "### Noise Reduction\n",
    "There are two kinds of noise we want to reduce:\n",
    "1. Words appearing equally often in positive and negative reviews, they contribute very little to the prediction\n",
    "2. Words appearing seldomly, they could be self made and not representational\n",
    "\n",
    "We use two parameters `min_count` and `polarity_cutoff` to filter out those words and add the rest into vocabulary"
   ]
  },
  {
   "cell_type": "code",
   "execution_count": 22,
   "metadata": {
    "collapsed": false,
    "deletable": true,
    "editable": true
   },
   "outputs": [],
   "source": [
    "min_count = 50\n",
    "polarity_cutoff = 0.1\n",
    "\n",
    "vocab = set()\n",
    "for word, count in total_counts.items():\n",
    "    if count > min_count and abs(pos_neg_ratios[word]) > polarity_cutoff:\n",
    "        vocab.add(word)"
   ]
  },
  {
   "cell_type": "markdown",
   "metadata": {},
   "source": [
    "Create the word-to-index dictionary"
   ]
  },
  {
   "cell_type": "code",
   "execution_count": 23,
   "metadata": {
    "collapsed": false,
    "deletable": true,
    "editable": true
   },
   "outputs": [],
   "source": [
    "word2idx = dict() \n",
    "for i, word in enumerate(vocab):\n",
    "    word2idx[word] = i"
   ]
  },
  {
   "cell_type": "markdown",
   "metadata": {},
   "source": [
    "Convert a review into a vector"
   ]
  },
  {
   "cell_type": "code",
   "execution_count": 26,
   "metadata": {
    "collapsed": false,
    "deletable": true,
    "editable": true
   },
   "outputs": [],
   "source": [
    "def review_to_vector(review):\n",
    "    vector = np.zeros(len(vocab))\n",
    "    for word in text.split(' '):\n",
    "        idx = word2idx.get(word, None)\n",
    "        if idx:\n",
    "            vector[idx] = 1\n",
    "    return vector"
   ]
  }
 ],
 "metadata": {
  "kernelspec": {
   "display_name": "Python 3",
   "language": "python",
   "name": "python3"
  },
  "language_info": {
   "codemirror_mode": {
    "name": "ipython",
    "version": 3
   },
   "file_extension": ".py",
   "mimetype": "text/x-python",
   "name": "python",
   "nbconvert_exporter": "python",
   "pygments_lexer": "ipython3",
   "version": "3.6.1"
  }
 },
 "nbformat": 4,
 "nbformat_minor": 2
}
